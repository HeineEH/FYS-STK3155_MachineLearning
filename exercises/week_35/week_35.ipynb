{
 "cells": [
  {
   "cell_type": "markdown",
   "id": "b4005770",
   "metadata": {},
   "source": [
    "# Exercises week 35\n",
    "\n",
    "## Deriving and Implementing Ordinary Least Squares"
   ]
  },
  {
   "cell_type": "markdown",
   "id": "2ca1b589",
   "metadata": {},
   "source": [
    "This week you will be deriving the analytical expressions for linear regression, building up the model from scratch. This will include taking several derivatives of products of vectors and matrices. Such derivatives are central to the optimization of many machine learning models. Although we will often use automatic differentiation in actual calculations, to be able to have analytical expressions is extremely helpful in case we have simpler derivatives as well as when we analyze various properties (like second derivatives) of the chosen cost functions.\n",
    "\n",
    "Vectors are always written as boldfaced lower case letters and matrices as upper case boldfaced letters. You will find useful the notes from week 35 on derivatives of vectors and matrices. See also the textbook of Faisal at al, chapter 5 and in particular sections 5.3-5.5 at <https://github.com/CompPhysics/MachineLearning/blob/master/doc/Textbooks/MathMLbook.pdf>"
   ]
  },
  {
   "cell_type": "markdown",
   "id": "41e92bf9",
   "metadata": {},
   "source": [
    "### Learning goals\n",
    "\n",
    "After completing these exercises, you will know how to\n",
    "- Take the derivatives of simple products between vectors and matrices\n",
    "- Implement OLS using the analytical expressions\n",
    "- Create a feature matrix from a set of data\n",
    "- Create a feature matrix for a polynomial model\n",
    "- Evaluate the MSE score of various model on training and test data, and comparing their performance\n",
    "\n",
    "### Deliverables\n",
    "\n",
    "Complete the following exercises while working in a jupyter notebook. Then, in canvas, include\n",
    "- The jupyter notebook with the exercises completed\n",
    "- An exported PDF of the notebook (https://code.visualstudio.com/docs/datascience/jupyter-notebooks#_export-your-jupyter-notebook)"
   ]
  },
  {
   "cell_type": "markdown",
   "id": "f7a9209d",
   "metadata": {},
   "source": [
    "## How to take derivatives of Matrix-Vector expressions"
   ]
  },
  {
   "cell_type": "markdown",
   "id": "45f3712e",
   "metadata": {},
   "source": [
    "In these exercises it is always useful to write out with summation indices the various quantities. Take also a look at the weekly slides from week 35 and the various examples included there.\n",
    "\n",
    "As an example, consider the function\n",
    "\n",
    "$$\n",
    "f(\\boldsymbol{x}) =\\boldsymbol{A}\\boldsymbol{x},\n",
    "$$\n",
    "\n",
    "which reads for a specific component $f_i$ (we define the matrix $\\boldsymbol{A}$ to have dimension $n\\times n$ and the vector $\\boldsymbol{x}$ to have length $n$)\n",
    "\n",
    "$$\n",
    "f_i =\\sum_{j=0}^{n-1}a_{ij}x_j,\n",
    "$$\n",
    "\n",
    "which leads to\n",
    "\n",
    "$$\n",
    "\\frac{\\partial f_i}{\\partial x_j}= a_{ij},\n",
    "$$\n",
    "\n",
    "and written out in terms of the vector $\\boldsymbol{x}$ we have\n",
    "\n",
    "$$\n",
    "\\frac{\\partial f(\\boldsymbol{x})}{\\partial \\boldsymbol{x}}= \\boldsymbol{A}.\n",
    "$$"
   ]
  },
  {
   "cell_type": "markdown",
   "id": "5fa8a4e6",
   "metadata": {},
   "source": [
    "## Exercise 1 - Finding the derivative of Matrix-Vector expressions"
   ]
  },
  {
   "cell_type": "markdown",
   "id": "df7a2270",
   "metadata": {},
   "source": [
    "**a)** Consider the expression\n",
    "\n",
    "$$\n",
    "\\frac{\\partial (\\boldsymbol{a}^T\\boldsymbol{x})}{\\partial \\boldsymbol{x}},\n",
    "$$\n",
    "\n",
    "Where $\\boldsymbol{a}$ and $\\boldsymbol{x}$ are column-vectors with length $n$.\n",
    "\n",
    "What is the *shape* of the expression we are taking the derivative of?\n",
    "\n",
    "What is the *shape* of the thing we are taking the derivative with respect to?\n",
    "\n",
    "What is the *shape* of the result of the expression?"
   ]
  },
  {
   "cell_type": "markdown",
   "id": "54c1b259",
   "metadata": {},
   "source": [
    "**Answer a)**\\\n",
    "We are taking the derivative of $\\boldsymbol{a}^T\\boldsymbol{x}$, where $\\boldsymbol{a}^T$ is a row-vector with length n ,and $\\boldsymbol{x}$ is a column vector with length n. Multiplied together they compute to a single number (shape $(1 \\times 1)$).\n",
    "\n",
    "We are taking the derivative with respect to $\\boldsymbol{x}$. It is a column-vector with length n, so it has the shape $(n \\times 1)$.\n",
    "\n",
    "The expression can be written as $$\\begin{bmatrix} \\frac{\\partial(\\boldsymbol{a}^T\\boldsymbol{x})}{\\partial x_0} & \\frac{\\partial(\\boldsymbol{a}^T\\boldsymbol{x})}{\\partial x_1} & \\dots & \\frac{\\partial(\\boldsymbol{a}^T\\boldsymbol{x})}{\\partial x_{n-1}} \\end{bmatrix},$$\n",
    "and because the $\\boldsymbol{a}^T\\boldsymbol{x}$ is a single number, the shape of the result of the expression is this row-vector with shape $(1 \\times n)$\n",
    "\n",
    "---"
   ]
  },
  {
   "cell_type": "markdown",
   "id": "c0396734",
   "metadata": {},
   "source": [
    "**b)** Show that\n",
    "\n",
    "$$\n",
    "\\frac{\\partial (\\boldsymbol{a}^T\\boldsymbol{x})}{\\partial \\boldsymbol{x}} = \\boldsymbol{a}^T,\n",
    "$$"
   ]
  },
  {
   "cell_type": "markdown",
   "id": "c4df19de",
   "metadata": {},
   "source": [
    "**Answer b)**\\\n",
    "We have the expression\n",
    "$$\n",
    "\\boldsymbol{a}^T\\boldsymbol{x} = \\sum_{i=0}^{n-1}a_i x_i \\\\\n",
    "$$\n",
    "Then we have\n",
    "$$\n",
    "\\begin{align*}\n",
    "\n",
    "\\frac{\\partial (\\boldsymbol{a}^T\\boldsymbol{x})}{\\partial \\boldsymbol{x}} &= \\begin{bmatrix} \n",
    "\\frac{\\partial(\\boldsymbol{a}^T\\boldsymbol{x})}{\\partial x_0} & \n",
    "\\frac{\\partial(\\boldsymbol{a}^T\\boldsymbol{x})}{\\partial x_1} & \n",
    "\\dots & \n",
    "\\frac{\\partial(\\boldsymbol{a}^T\\boldsymbol{x})}{\\partial x_{n-1}} \n",
    "\\end{bmatrix} \\\\\n",
    "\n",
    "&= \\begin{bmatrix} \n",
    "\\frac{\\partial}{\\partial x_0}(\\sum_{i=0}^{n-1}a_i x_i) & \n",
    "\\frac{\\partial}{\\partial x_1}(\\sum_{i=0}^{n-1}a_i x_i) & \n",
    "\\dots & \n",
    "\\frac{\\partial}{\\partial x_{n-1}}(\\sum_{i=0}^{n-1}a_i x_i) \n",
    "\\end{bmatrix} \\\\\n",
    "\n",
    "&= \\begin{bmatrix} \n",
    "a_0 & \n",
    "a_1 & \n",
    "\\dots & \n",
    "a_{n-1} \n",
    "\\end{bmatrix} \\\\\n",
    "\n",
    "&= \\underline{\\underline{\\boldsymbol{a}^T}}\n",
    "\n",
    "\\end{align*}\n",
    "% \\frac{\\partial (\\boldsymbol{a}^T\\boldsymbol{x})}{\\partial \\boldsymbol{x}}\n",
    "$$\n",
    "\n",
    "---"
   ]
  },
  {
   "cell_type": "markdown",
   "id": "dc39d541",
   "metadata": {},
   "source": [
    "**c)** Show that\n",
    "\n",
    "$$\n",
    "\\frac{\\partial (\\boldsymbol{a}^T\\boldsymbol{A}\\boldsymbol{a})}{\\partial \\boldsymbol{a}} = \\boldsymbol{a}^T(\\boldsymbol{A}+\\boldsymbol{A}^T),\n",
    "$$"
   ]
  },
  {
   "cell_type": "markdown",
   "id": "bd785425",
   "metadata": {},
   "source": [
    "**Answer c)**\\\n",
    "First we find the solution for an element $k$\n",
    "$$\n",
    "\\begin{align*}\n",
    "\\frac{\\partial (\\boldsymbol{a}^T\\boldsymbol{A}\\boldsymbol{a})}{\\partial a_k} &= \\frac{\\partial}{\\partial a_k}\\left(\\sum^{n-1}_{i=0}a_i\\sum^{n-1}_{j=0}A_{ij}a_j\\right)\\\\\n",
    "\n",
    "&= \\sum^{n-1}_{i=0} \\left( \\frac{\\partial a_i}{\\partial a_k} \\sum_{j=0}^{n-1}A_{ij}a_j + a_i \\sum_{j=0}^{n-1} \\left( \\frac{\\partial a_j}{\\partial a_k} A_{ij} \\right) \\right)\\\\\n",
    "\n",
    "&= \\sum^{n-1}_{i=0} \\left( \\frac{\\partial a_i}{\\partial a_k} \\sum_{j=0}^{n-1}A_{ij}a_j \\right) + \\sum^{n-1}_{i=0} \\left( a_i \\sum_{j=0}^{n-1} \\left( \\frac{\\partial a_j}{\\partial a_k} A_{ij} \\right) \\right)\\\\\n",
    "\n",
    "&= \\sum^{n-1}_{j=0} A_{kj}a_j + \\sum^{n-1}_{i=0} A_{ik}a_i \\\\\n",
    "\n",
    "&= \\sum^{n-1}_{i=0} a_i\\left( A_{ki} + A_{ik} \\right)\\\\\n",
    "\n",
    "&= \\sum^{n-1}_{i=0} a_i\\left( A_{ik} + A^T_{ik} \\right)\\\\\n",
    "\n",
    "&= \\sum^{n-1}_{i=0} a_i\\left( A + A^T \\right)_{ik} \\\\\n",
    "\\end{align*}\n",
    "$$\n",
    "\n",
    "Then, setting in for all $k$ values in the resulting matrix we get\n",
    "$$\n",
    "\\begin{align*}\n",
    "\\frac{\\partial (\\boldsymbol{a}^T\\boldsymbol{A}\\boldsymbol{a})}{\\partial \\boldsymbol{a}} &= \\begin{bmatrix} \\sum^{n-1}_{i=0} a_i\\left( A + A^T \\right)_{i0} & \\sum^{n-1}_{i=0} a_i\\left( A + A^T \\right)_{i1} & \\dots & \\sum^{n-1}_{i=0} a_i\\left( A + A^T \\right)_{i(n-1)} \\end{bmatrix}\\\\\n",
    "&= \\underline{\\underline{\\boldsymbol{a}^T( \\boldsymbol{A}+\\boldsymbol{A}^T)}}\n",
    "\\end{align*}\n",
    "$$\n",
    "\n",
    "---"
   ]
  },
  {
   "cell_type": "markdown",
   "id": "498d13ec",
   "metadata": {},
   "source": [
    "## Exercise 2 - Deriving the expression for OLS"
   ]
  },
  {
   "cell_type": "markdown",
   "id": "f3f771de",
   "metadata": {},
   "source": [
    "The ordinary least squares method finds the parameters $\\boldsymbol{\\theta}$ which minimizes the squared error between our model $\\boldsymbol{X\\theta}$ and the true values $\\boldsymbol{y}$.\n",
    "\n",
    "To find the parameters $\\boldsymbol{\\theta}$ which minimizes this error, we take the derivative of the squared error expression with respect to $\\boldsymbol{\\theta}$, and set it equal to 0."
   ]
  },
  {
   "cell_type": "markdown",
   "id": "49690237",
   "metadata": {},
   "source": [
    "**a)** Very briefly explain why the approach above finds the parameters $\\boldsymbol{\\theta}$ which minimizes this error."
   ]
  },
  {
   "cell_type": "markdown",
   "id": "e2c6da05",
   "metadata": {},
   "source": [
    "**Answer a)** The square error is a convex function, which means that whereever the derivative is equal to 0 is the minimum of the function.\n",
    "\n",
    "---"
   ]
  },
  {
   "cell_type": "markdown",
   "id": "b7cccc9d",
   "metadata": {},
   "source": [
    "We typically write the squared error as\n",
    "\n",
    "$$\n",
    "\\vert\\vert\\boldsymbol{y} - \\boldsymbol{X\\theta}\\vert\\vert^2\n",
    "$$\n",
    "\n",
    "which we can rewrite in matrix-vector form as\n",
    "\n",
    "$$\n",
    "\\left(\\boldsymbol{y}-\\boldsymbol{X}\\boldsymbol{\\theta}\\right)^T\\left(\\boldsymbol{y}-\\boldsymbol{X}\\boldsymbol{\\theta}\\right)\n",
    "$$"
   ]
  },
  {
   "cell_type": "markdown",
   "id": "8fbecf74",
   "metadata": {},
   "source": [
    "**b)** If $\\boldsymbol{X}$ is invertible, what is the expression for the optimal parameters $\\boldsymbol{\\theta}$? (**Hint:** Don't compute any derivatives, but solve $\\boldsymbol{X\\theta}=\\boldsymbol{y}$ for $\\boldsymbol{\\theta}$)"
   ]
  },
  {
   "cell_type": "markdown",
   "id": "14fc2af2",
   "metadata": {},
   "source": [
    "**Answer b)**\n",
    "If $\\boldsymbol{X}$ is invertible, then $\\boldsymbol{\\theta} = \\boldsymbol{X}^{-1}\\boldsymbol{y}$.\n",
    "\n",
    "---"
   ]
  },
  {
   "cell_type": "markdown",
   "id": "f37af8f0",
   "metadata": {},
   "source": [
    "**c)** Show that\n",
    "\n",
    "$$\n",
    "\\frac{\\partial \\left(\\boldsymbol{x}-\\boldsymbol{A}\\boldsymbol{s}\\right)^T\\left(\\boldsymbol{x}-\\boldsymbol{A}\\boldsymbol{s}\\right)}{\\partial \\boldsymbol{s}} = -2\\left(\\boldsymbol{x}-\\boldsymbol{A}\\boldsymbol{s}\\right)^T\\boldsymbol{A},\n",
    "$$"
   ]
  },
  {
   "cell_type": "markdown",
   "id": "96f07b5a",
   "metadata": {
    "vscode": {
     "languageId": "latex"
    }
   },
   "source": [
    "**Answer c)**\n",
    "First we define\n",
    "$$\n",
    "\\boldsymbol{v} = \\boldsymbol{x}-\\boldsymbol{A}\\boldsymbol{s}\\\\\n",
    "w = \\boldsymbol{v}^T\\boldsymbol{v}\n",
    "$$\n",
    "We use the partial derivatives\n",
    "$$\n",
    "\\frac{\\partial w}{\\partial \\boldsymbol{v}} = 2\\boldsymbol{v}^T, \\\\\n",
    "\\space \\\\\n",
    "\\frac{\\partial \\boldsymbol{v}}{\\partial \\boldsymbol{s}} = -\\boldsymbol{A},\n",
    "$$\n",
    "and the chain rule to get\n",
    "$$\n",
    "\\begin{align*}\n",
    "\\frac{\\partial \\left(\\boldsymbol{x}-\\boldsymbol{A}\\boldsymbol{s}\\right)^T\\left(\\boldsymbol{x}-\\boldsymbol{A}\\boldsymbol{s}\\right)}{\\partial \\boldsymbol{s}} &= \\frac{\\partial w}{\\partial \\boldsymbol{s}} \\\\\n",
    "\n",
    "&= \\frac{\\partial w}{\\partial \\boldsymbol{v}} \\frac{\\partial \\boldsymbol{v}}{\\partial \\boldsymbol{s}}  \\\\\n",
    "\n",
    "&= 2\\boldsymbol{v}^T (-\\boldsymbol{A})\\\\\n",
    "\n",
    "&= \\underline{\\underline{-2(\\boldsymbol{x}-\\boldsymbol{A}\\boldsymbol{s})^T\\boldsymbol{A}}}\n",
    "\n",
    "\\end{align*}\n",
    "$$\n",
    "\n",
    "---"
   ]
  },
  {
   "cell_type": "markdown",
   "id": "869fca4d",
   "metadata": {},
   "source": [
    "**d)** Using the expression from **c)**, but substituting back in $\\boldsymbol{\\theta}$, $\\boldsymbol{y}$ and $\\boldsymbol{X}$, find the expression for the optimal parameters $\\boldsymbol{\\theta}$ in the case that $\\boldsymbol{X}$ is not invertible, but $\\boldsymbol{X^T X}$ is, which is most often the case.\n",
    "\n",
    "$$\n",
    "\\boldsymbol{\\hat{\\theta}_{OLS}} = ...\n",
    "$$"
   ]
  },
  {
   "cell_type": "markdown",
   "id": "5c4c7add",
   "metadata": {},
   "source": [
    "**Answer d)**\\\n",
    "By taking the expression in **c)** and replacing $\\boldsymbol{x}$ with $\\boldsymbol{y}$, $\\boldsymbol{A}$ with $\\boldsymbol{X}$, and $\\boldsymbol{s}$ with $\\boldsymbol{\\theta}$ we get an expression for the derivative of the squared error with respect to $\\boldsymbol{\\theta}$:\n",
    "\n",
    "$$\n",
    "\n",
    "\\frac{\\partial \\left(\\vert\\vert\\boldsymbol{y} - \\boldsymbol{X\\theta}\\vert\\vert^2 \\right)}{\\partial \\boldsymbol{\\theta}}\n",
    "=\n",
    "\\frac{\\partial \\left(\\boldsymbol{y}-\\boldsymbol{X}\\boldsymbol{\\theta}\\right)^T\\left(\\boldsymbol{y}-\\boldsymbol{X}\\boldsymbol{\\theta}\\right)}{\\partial \\boldsymbol{\\theta}}\n",
    "=\n",
    "-2\\left(\\boldsymbol{y}-\\boldsymbol{X}\\boldsymbol{\\theta}\\right)^T\\boldsymbol{X}\n",
    "$$\n",
    "\n",
    "We get the optimal parameters $\\boldsymbol{\\hat{\\theta}_{OLS}}$ by looking at where this expression is equal to zero:\n",
    "$$\n",
    "-2\\left(\\boldsymbol{y}-\\boldsymbol{X}\\boldsymbol{\\hat{\\theta}_{OLS}}\\right)^T\\boldsymbol{X} = 0 .\n",
    "$$\n",
    "\n",
    "By rearranging to\n",
    "$$\n",
    "\\left(\\boldsymbol{\\hat{\\theta}^T_{OLS} \\boldsymbol{X}^T \\boldsymbol{X}} \\right)^T = (\\boldsymbol{y}^T\\boldsymbol{X})^T\\\\\n",
    "\\space\\\\\n",
    "\\boldsymbol{X}^T\\boldsymbol{X}\\boldsymbol{\\hat{\\theta}_{OLS}} = \\boldsymbol{X}^T\\boldsymbol{y}\n",
    "$$\n",
    "\n",
    "then finally inverting $\\boldsymbol{X^T X}$ we obtain an expression for the optimal parameters\n",
    "$$\n",
    "\\underline{\\underline{\\boldsymbol{\\hat{\\theta}_{OLS}} = (\\boldsymbol{X}^T\\boldsymbol{X} )^{-1} \\boldsymbol{X}^T\\boldsymbol{y}}}\n",
    "$$\n",
    "\n",
    "---"
   ]
  },
  {
   "cell_type": "markdown",
   "id": "57ca3d74",
   "metadata": {},
   "source": [
    "## Exercise 3 - Creating feature matrix and implementing OLS using the analytical expression"
   ]
  },
  {
   "cell_type": "markdown",
   "id": "5dc179f7",
   "metadata": {},
   "source": [
    "With the expression for $\\boldsymbol{\\hat{\\theta}_{OLS}}$, you now have what you need to implement OLS regression with your input data and target data $\\boldsymbol{y}$. But before you can do that, you need to set up you input data as a feature matrix $\\boldsymbol{X}$.\n",
    "\n",
    "In a feature matrix, each row is a datapoint and each column is a feature of that data. If you want to predict someones spending based on their income and number of children, for instance, you would create a row for each person in your dataset, with the montly income and the number of children as columns.\n",
    "\n",
    "We typically also include an intercept in our models. The intercept is a value that is added to our prediction regardless of the value of the other features. The intercept tries to account for constant effects in our data that are not dependant on anything else. In our current example, the intercept could account for living expenses which are typical regardless of income or childcare expenses.\n",
    "\n",
    "We calculate the optimal intercept by including a feature with the constant value of 1 in our model, which is then multplied by some parameter $\\theta_0$ from the OLS method into the optimal intercept value (which will be $\\theta_0$). In practice, we include the intercept in our model by adding a column of ones to the start of our feature matrix."
   ]
  },
  {
   "cell_type": "code",
   "execution_count": 236,
   "id": "e5ff2a69",
   "metadata": {},
   "outputs": [],
   "source": [
    "import numpy as np"
   ]
  },
  {
   "cell_type": "code",
   "execution_count": 237,
   "id": "a3cf2792",
   "metadata": {},
   "outputs": [],
   "source": [
    "n = 20\n",
    "income = np.array([116., 161., 167., 118., 172., 163., 179., 173., 162., 116., 101., 176., 178., 172., 143., 135., 160., 101., 149., 125.])\n",
    "children = np.array([5, 3, 0, 4, 5, 3, 0, 4, 4, 3, 3, 5, 1, 0, 2, 3, 2, 1, 5, 4])\n",
    "spending = np.array([152., 141., 102., 136., 161., 129.,  99., 159., 160., 107.,  98., 164., 121.,  93., 112., 127., 117.,  69., 156., 131.])\n"
   ]
  },
  {
   "cell_type": "markdown",
   "id": "5da61481",
   "metadata": {},
   "source": [
    "**a)** Create a feature matrix $\\boldsymbol{X}$ for the features income and children, including an intercept column of ones at the start."
   ]
  },
  {
   "cell_type": "code",
   "execution_count": 238,
   "id": "5ad87a65",
   "metadata": {},
   "outputs": [],
   "source": [
    "X = np.zeros((n, 3))\n",
    "X[:, 0] = 1\n",
    "X[:, 1] = income\n",
    "X[:, 2] = children"
   ]
  },
  {
   "cell_type": "markdown",
   "id": "e0ddfac2",
   "metadata": {},
   "source": [
    "**b)** Use the expression from **3d)** to find the optimal parameters $\\boldsymbol{\\hat{\\beta}_{OLS}}$ for predicting spending based on these features. Create a function for this operation, as you are going to need to use it a lot."
   ]
  },
  {
   "cell_type": "code",
   "execution_count": 239,
   "id": "8f3f68aa",
   "metadata": {},
   "outputs": [],
   "source": [
    "def OLS_parameters(X, y):\n",
    "    X_transpose = np.transpose(X)\n",
    "    return np.linalg.inv(X_transpose @ X) @ X_transpose @ y"
   ]
  },
  {
   "cell_type": "markdown",
   "id": "0cb6da80",
   "metadata": {},
   "source": [
    "## Exercise 4 - Fitting a polynomial"
   ]
  },
  {
   "cell_type": "markdown",
   "id": "71015064",
   "metadata": {},
   "source": [
    "In this course, we typically do linear regression using polynomials, though in real world applications it is also very common to make linear models based on measured features like you did in the previous exercise.\n",
    "\n",
    "When fitting a polynomial with linear regression, we make each polynomial degree($x, x^2, x^3, ..., x^p$) its own feature."
   ]
  },
  {
   "cell_type": "code",
   "execution_count": 240,
   "id": "d7476c84",
   "metadata": {},
   "outputs": [],
   "source": [
    "n = 100\n",
    "x = np.linspace(-3, 3, n)\n",
    "y = np.exp(-x**2) + 1.5 * np.exp(-(x-2)**2) + np.random.normal(0, 0.1)"
   ]
  },
  {
   "cell_type": "markdown",
   "id": "8321451b",
   "metadata": {},
   "source": [
    "**a)** Create a feature matrix $\\boldsymbol{X}$ for the features $x, x^2, x^3, x^4, x^5$, including an intercept column of ones at the start. Make this into a function, as you will do this a lot over the next weeks."
   ]
  },
  {
   "cell_type": "code",
   "execution_count": 241,
   "id": "91496e40",
   "metadata": {},
   "outputs": [],
   "source": [
    "def polynomial_features(x, p):\n",
    "    n = len(x)\n",
    "    X = np.zeros((n, p + 1))\n",
    "    X[:, 0] = 1\n",
    "    for degree in range(1, p+1):\n",
    "        X[:, degree] = x ** degree\n",
    "    return X\n",
    "\n",
    "X = polynomial_features(x, 5)"
   ]
  },
  {
   "cell_type": "markdown",
   "id": "b84b1e31",
   "metadata": {},
   "source": [
    "**b)** Use the expression from **3d)** to find the optimal parameters $\\boldsymbol{\\hat{\\beta}_{OLS}}$ for predicting $\\boldsymbol{y}$ based on these features. If you have done everything right so far, this code will not need changing."
   ]
  },
  {
   "cell_type": "code",
   "execution_count": 242,
   "id": "034f502c",
   "metadata": {},
   "outputs": [],
   "source": [
    "beta = OLS_parameters(X, y)"
   ]
  },
  {
   "cell_type": "markdown",
   "id": "d703f788",
   "metadata": {},
   "source": [
    "**c)** Like in exercise 4 last week, split your feature matrix and target data into a training split and test split."
   ]
  },
  {
   "cell_type": "code",
   "execution_count": 243,
   "id": "29171358",
   "metadata": {},
   "outputs": [],
   "source": [
    "from sklearn.model_selection import train_test_split\n",
    "\n",
    "X_train, X_test, y_train, y_test = train_test_split(X, y)"
   ]
  },
  {
   "cell_type": "markdown",
   "id": "a0e3509f",
   "metadata": {},
   "source": [
    "**d)** Train your model on the training data(find the parameters which best fit) and compute the MSE on both the training and test data."
   ]
  },
  {
   "cell_type": "code",
   "execution_count": 266,
   "id": "1e346f4c",
   "metadata": {},
   "outputs": [
    {
     "name": "stdout",
     "output_type": "stream",
     "text": [
      "MSE of training data: 6.463755225724075e-05\n",
      "MSE of testing data: 0.0002625423637803146\n"
     ]
    }
   ],
   "source": [
    "from sklearn.metrics import mean_squared_error\n",
    "\n",
    "beta = OLS_parameters(X_train, y_train)\n",
    "\n",
    "prediction_train = X_train @ beta\n",
    "mse_train = mean_squared_error(y_train, prediction_train)\n",
    "\n",
    "prediction_test = X_test @ beta\n",
    "mse_test = mean_squared_error(y_test, prediction_test)\n",
    "\n",
    "print(f\"MSE of training data: {mse_train}\")\n",
    "print(f\"MSE of testing data: {mse_test}\")\n"
   ]
  },
  {
   "cell_type": "markdown",
   "id": "7e431889",
   "metadata": {},
   "source": [
    "**e)** Do the same for each polynomial degree from 2 to 10, and plot the MSE on both the training and test data as a function of polynomial degree. The aim is to reproduce Figure 2.11 of [Hastie et al](https://github.com/CompPhysics/MLErasmus/blob/master/doc/Textbooks/elementsstat.pdf). Feel free to read the discussions leading to figure 2.11 of Hastie et al. "
   ]
  },
  {
   "cell_type": "code",
   "execution_count": 267,
   "id": "ceb57457",
   "metadata": {},
   "outputs": [
    {
     "data": {
      "image/png": "[encoded data removed]",
      "text/plain": [
       "<Figure size 640x480 with 1 Axes>"
      ]
     },
     "metadata": {},
     "output_type": "display_data"
    }
   ],
   "source": [
    "import matplotlib.pyplot as plt\n",
    "from_degree = 2\n",
    "to_degree = 10\n",
    "\n",
    "degrees = list(range(from_degree, to_degree+1))\n",
    "mse_train_values = np.zeros(to_degree-from_degree+1)\n",
    "mse_test_values = np.zeros(to_degree-from_degree+1)\n",
    "for degree in degrees:\n",
    "    X = polynomial_features(x, degree)\n",
    "    X_train, X_test, y_train, y_test = train_test_split(X, y, random_state=123)\n",
    "    beta = OLS_parameters(X_train, y_train)\n",
    "\n",
    "    prediction_train = X_train @ beta\n",
    "    mse_train = mean_squared_error(y_train, prediction_train)\n",
    "\n",
    "    prediction_test = X_test @ beta\n",
    "    mse_test = mean_squared_error(y_test, prediction_test)\n",
    "\n",
    "    mse_train_values[degree-from_degree] = mse_train\n",
    "    mse_test_values[degree-from_degree] = mse_test\n",
    "\n",
    "    # plt.title(f\"Degree {degree} polynomial\")\n",
    "    # plt.scatter(x, y)\n",
    "    # plt.plot(x, X @ beta, color=\"red\")\n",
    "    # plt.show()\n",
    "\n",
    "plt.plot(degrees, mse_train_values, label=\"Training data\")\n",
    "plt.plot(degrees, mse_test_values, label=\"Testing data\")\n",
    "plt.xlabel(\"Polynomial degree\")\n",
    "plt.ylabel(\"Mean squared error\")\n",
    "plt.legend()\n",
    "plt.show()"
   ]
  },
  {
   "cell_type": "markdown",
   "id": "5e5b5954",
   "metadata": {},
   "source": [
    "**f)** Interpret the graph. Why do the lines move as they do? What does it tell us about model performance and generalizability?"
   ]
  },
  {
   "cell_type": "markdown",
   "id": "0984c534",
   "metadata": {},
   "source": [
    "**Answer f)**\\\n",
    "The graph shows how both the MSE of the training data and test data decreases as the degree of polynomial we use to approximate the real function increases. We see that the test data MSE is approximately the same as training data, and both get very low as the polynomial degree increases. This tells us that the model works for both data it has seen before (training data) and new data (test data). \n",
    "\n",
    "The model has therefore good generalizability (at least for values in the same range as the train and test data (-3 to 3)), and performs well with very low MSE when the polynomial degree reaches 10.\n",
    "\n",
    "---"
   ]
  },
  {
   "cell_type": "markdown",
   "id": "5994f0c5",
   "metadata": {},
   "source": [
    "## Exercise 5 - Comparing your code with sklearn"
   ]
  },
  {
   "cell_type": "markdown",
   "id": "8f595b7a",
   "metadata": {},
   "source": [
    "When implementing different algorithms for the first time, it can be helpful to double check your results with established implementations before you go on to add more complexity."
   ]
  },
  {
   "cell_type": "markdown",
   "id": "8ab310c1",
   "metadata": {},
   "source": [
    "**a)** Make sure your `polynomial_features` function creates the same feature matrix as sklearns PolynomialFeatures.\n",
    "\n",
    "(https://scikit-learn.org/stable/modules/generated/sklearn.preprocessing.PolynomialFeatures.html)"
   ]
  },
  {
   "cell_type": "code",
   "execution_count": 302,
   "id": "85b964d1",
   "metadata": {},
   "outputs": [
    {
     "name": "stdout",
     "output_type": "stream",
     "text": [
      "The largest difference between the two matrices is 5.68e-14\n"
     ]
    }
   ],
   "source": [
    "from sklearn.preprocessing import PolynomialFeatures\n",
    "from sklearn.metrics import mean_absolute_error\n",
    "X_sklearn = PolynomialFeatures(5).fit_transform(x.reshape(-1, 1))\n",
    "X = polynomial_features(x, 5)\n",
    "\n",
    "print(f\"The largest difference between the two matrices is {abs(X-X_sklearn).max():.3}\")"
   ]
  },
  {
   "cell_type": "markdown",
   "id": "cce45401",
   "metadata": {},
   "source": [
    "**Answer a)**\\\n",
    "The largest difference between the two matrices is an extremely small number. This is likely due to imprecision in floating point operations.\n",
    "\n",
    "That means that the sklearn implementation creates the same feature matrix as my own `polynomial_features` function.\n",
    "\n",
    "---"
   ]
  },
  {
   "cell_type": "markdown",
   "id": "73c32c52",
   "metadata": {},
   "source": [
    "**b)** Make sure your `OLS_parameters` function computes the same parameters as sklearns LinearRegression with fit_intercept set to False, since the intercept is included in the feature matrix. Use `your_model_object.coef_` to extract the computed parameters.\n",
    "\n",
    "(https://scikit-learn.org/stable/modules/generated/sklearn.linear_model.LinearRegression.html)"
   ]
  },
  {
   "cell_type": "code",
   "execution_count": 315,
   "id": "35b04126",
   "metadata": {},
   "outputs": [
    {
     "name": "stdout",
     "output_type": "stream",
     "text": [
      "Own implementation: \t\t[ 0.83946674  0.27464654 -0.02326439  0.05342623 -0.0034652  -0.0087781 ]\n",
      "sklearn implementation: \t[ 0.83946674  0.27464654 -0.02326439  0.05342623 -0.0034652  -0.0087781 ]\n"
     ]
    }
   ],
   "source": [
    "from sklearn.linear_model import LinearRegression\n",
    "\n",
    "\n",
    "theta = OLS_parameters(X, y)\n",
    "theta_sklearn = LinearRegression(fit_intercept=False).fit(X, y).coef_\n",
    "print(f\"Own implementation: \\t\\t{theta}\")\n",
    "print(f\"sklearn implementation: \\t{theta_sklearn}\")"
   ]
  },
  {
   "cell_type": "markdown",
   "id": "2a5d41a3",
   "metadata": {},
   "source": [
    "**Answer b)**\\\n",
    "My function gives the exact same result as the sklearn implementation here.\n",
    "\n",
    "---"
   ]
  }
 ],
 "metadata": {
  "kernelspec": {
   "display_name": ".venv",
   "language": "python",
   "name": "python3"
  },
  "language_info": {
   "codemirror_mode": {
    "name": "ipython",
    "version": 3
   },
   "file_extension": ".py",
   "mimetype": "text/x-python",
   "name": "python",
   "nbconvert_exporter": "python",
   "pygments_lexer": "ipython3",
   "version": "3.13.0"
  }
 },
 "nbformat": 4,
 "nbformat_minor": 5
}
